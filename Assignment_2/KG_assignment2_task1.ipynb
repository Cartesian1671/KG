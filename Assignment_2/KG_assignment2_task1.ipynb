{
  "cells": [
    {
      "cell_type": "markdown",
      "metadata": {
        "id": "MXXJ8bq0d-Bc"
      },
      "source": [
        "# Task 1: Define hand-crafted SPARQL queries (based on “horn-like” rules) for each relation p above to insert the missing relations \\<s> \\<p> \\<o> into the given graph.\n"
      ]
    },
    {
      "cell_type": "code",
      "execution_count": 1,
      "metadata": {
        "colab": {
          "base_uri": "https://localhost:8080/"
        },
        "id": "ZIPQZJL7Jdtg",
        "outputId": "201fd050-1e55-4d42-979f-92632a690a73"
      },
      "outputs": [
        {
          "data": {
            "text/plain": [
              "<Graph identifier=N2e3f0055c64140a6ae783bbf949c4dab (<class 'rdflib.graph.Graph'>)>"
            ]
          },
          "execution_count": 1,
          "metadata": {},
          "output_type": "execute_result"
        }
      ],
      "source": [
        "# !pip install rdflib ## uncomment this if you do not install rdflib\n",
        "import rdflib\n",
        "import copy # to copy graphs\n",
        "\n",
        "g = rdflib.Graph()\n",
        "g.parse(\"https://raw.githubusercontent.com/FHCampbell71/KG/main/Assignment_2/train.nt\",format=\"nt\") #load local rdf file"
      ]
    },
    {
      "cell_type": "markdown",
      "metadata": {
        "id": "2XQ9GHR-Jgua"
      },
      "source": [
        "Then we can run SPARQL query over local rdf file"
      ]
    },
    {
      "attachments": {},
      "cell_type": "markdown",
      "metadata": {
        "id": "5aw82DM4egk1"
      },
      "source": [
        "## Guess 1: missing hasCoauthor property based relations\n",
        "\n",
        "If 2 authors are both creators of the same paper, then they have a coauthor relation.\n",
        "\n",
        "coauthor(authorA, authorB) ⇐ creator(?somepaper, ?authorA) ∧ creator(?somepaper, ?authorB)\n"
      ]
    },
    {
      "cell_type": "markdown",
      "metadata": {
        "id": "RSRkeUK9IV8o"
      },
      "source": [
        "### query 1.1: count total coauthor relations"
      ]
    },
    {
      "cell_type": "code",
      "execution_count": 2,
      "metadata": {
        "id": "T6fTWaRNM9Rp"
      },
      "outputs": [],
      "source": [
        "query = \"\"\"\n",
        "SELECT (count(*) as ?cnt) {\n",
        "SELECT DISTINCT ?authorA ?authorB\n",
        "WHERE {\n",
        "?somepaper <http://purl.org/dc/terms/creator> ?authorA .\n",
        "?somepaper <http://purl.org/dc/terms/creator> ?authorB .\n",
        "}\n",
        "} \"\"\" ## give the SPARQL query\n"
      ]
    },
    {
      "cell_type": "code",
      "execution_count": 3,
      "metadata": {
        "colab": {
          "base_uri": "https://localhost:8080/"
        },
        "id": "uy8jnoXr_n_v",
        "outputId": "ac7551bf-05b5-415f-ae99-21ec40362b11"
      },
      "outputs": [
        {
          "name": "stdout",
          "output_type": "stream",
          "text": [
            "(rdflib.term.Literal('32511', datatype=rdflib.term.URIRef('http://www.w3.org/2001/XMLSchema#integer')),)\n"
          ]
        }
      ],
      "source": [
        "qres = g.query(query) ## run SPARQL query over graph q\n",
        "for row in qres: ## for each result\n",
        "    print(f\"{row}\") ## print s p o from result, and it is 32511"
      ]
    },
    {
      "cell_type": "markdown",
      "metadata": {
        "id": "4Xcx_LPYVqpy"
      },
      "source": [
        "### Query 1.2: count missing coauthor relations"
      ]
    },
    {
      "cell_type": "code",
      "execution_count": 4,
      "metadata": {
        "colab": {
          "base_uri": "https://localhost:8080/"
        },
        "id": "NYVad1Bu_379",
        "outputId": "5854e7a9-9e20-4239-a18d-cb80dab8abe8"
      },
      "outputs": [
        {
          "name": "stdout",
          "output_type": "stream",
          "text": [
            "8306 \n"
          ]
        }
      ],
      "source": [
        "# check the missing coauthor relations in this graph.\n",
        "query = \"\"\"SELECT (count(*) as ?cnt) {\n",
        "SELECT DISTINCT ?authorA ?authorB\n",
        "WHERE {\n",
        "?somepaper <http://purl.org/dc/terms/creator> ?authorA .\n",
        "?somepaper <http://purl.org/dc/terms/creator> ?authorB .\n",
        "filter not exists {?authorA <http://lsdis.cs.uga.edu/projects/semdis/opus#coauthor> ?authorB }.\n",
        "}}\n",
        " \"\"\" ## give the SPARQL query\n",
        "\n",
        "qres = g.query(query) ## run SPARQL query over graph q\n",
        "for row in qres: ## for each result\n",
        "    print(f\"{row.cnt} \") ## print cnt from result, and it is 8306. \n",
        "\n",
        "# paper 1 has authorA and authorB >> coauthor in the graph\n",
        "# paper 2 has authorA, authorB and authorC >> but no coauthor in the graph\n",
        "# so it is reasonable that missing coauthor relations are more than (32511-24822)"
      ]
    },
    {
      "attachments": {},
      "cell_type": "markdown",
      "metadata": {
        "id": "LVVnUVuje4w2"
      },
      "source": [
        "### Query 1.3: Insert the rule\n",
        "As the rule is certain so it has 100% confidence, the query can be inserted into the graph directly."
      ]
    },
    {
      "cell_type": "code",
      "execution_count": 5,
      "metadata": {
        "colab": {
          "base_uri": "https://localhost:8080/"
        },
        "id": "MUMgxLFQew_x",
        "outputId": "ce5450ad-983a-4e38-d076-27ebe42654e7"
      },
      "outputs": [
        {
          "name": "stdout",
          "output_type": "stream",
          "text": [
            "Original graph triples count: 89253\n",
            "New graph triples count: 97559\n"
          ]
        }
      ],
      "source": [
        "# Insert the missing coauthor relations in this graph.\n",
        "query = \"\"\"\n",
        "INSERT { ?authorA <http://lsdis.cs.uga.edu/projects/semdis/opus#coauthor> ?authorB }\n",
        "WHERE {\n",
        "?somepaper <http://purl.org/dc/terms/creator> ?authorA .\n",
        "?somepaper <http://purl.org/dc/terms/creator> ?authorB .\n",
        "filter not exists {?authorA <http://lsdis.cs.uga.edu/projects/semdis/opus#coauthor> ?authorB }.\n",
        "}\n",
        "\"\"\" ## give the SPARQL query\n",
        "\n",
        "# Copy the original graph to a new graph\n",
        "gnew = copy.deepcopy(g)\n",
        "\n",
        "# Execute the SPARQL query\n",
        "gnew.update(query)\n",
        "\n",
        "# Sanity check\n",
        "print(\"Original graph triples count:\", len(g))\n",
        "print(\"New graph triples count:\", len(gnew))"
      ]
    },
    {
      "attachments": {},
      "cell_type": "markdown",
      "metadata": {},
      "source": [
        "## Guess 2: missing memberOf property based relations\n",
        "\n",
        "If one author is member of an affiliation, then his coauthors may also be in the same affiliation \n",
        "\n",
        "memberOf(?authorB, ?someAffiliation) ⇐ memberOf(?authorA, ?someAffiliation) ∧ coauthor(?authorA, ?authorB)\n"
      ]
    },
    {
      "attachments": {},
      "cell_type": "markdown",
      "metadata": {},
      "source": [
        "### Query 2.1 count support"
      ]
    },
    {
      "cell_type": "code",
      "execution_count": 6,
      "metadata": {},
      "outputs": [
        {
          "name": "stdout",
          "output_type": "stream",
          "text": [
            "4236 \n"
          ]
        }
      ],
      "source": [
        "# query for support\n",
        "query = \"\"\"\n",
        "SELECT (count(*) as ?cnt) {\n",
        "SELECT DISTINCT ?authorB ?someAffiliation\n",
        "WHERE {\n",
        "?authorB <http://www.w3.org/ns/org#memberOf> ?someAffiliation .\n",
        "?authorA <http://lsdis.cs.uga.edu/projects/semdis/opus#coauthor> ?authorB .\n",
        "?authorA <http://www.w3.org/ns/org#memberOf> ?someAffiliation .\n",
        "}\n",
        "} \"\"\" \n",
        "\n",
        "qres = g.query(query) ## run SPARQL query over graph q\n",
        "for row in qres: ## for each result\n",
        "    print(f\"{row.cnt} \") ## print cnt from result, and it is 4236. "
      ]
    },
    {
      "attachments": {},
      "cell_type": "markdown",
      "metadata": {},
      "source": [
        "### Query 2.2 count body"
      ]
    },
    {
      "cell_type": "code",
      "execution_count": 7,
      "metadata": {},
      "outputs": [
        {
          "name": "stdout",
          "output_type": "stream",
          "text": [
            "10384 \n"
          ]
        }
      ],
      "source": [
        "# query for body coverage\n",
        "\n",
        "query = \"\"\"\n",
        "SELECT (count(*) as ?cnt) {\n",
        "SELECT DISTINCT ?authorB ?someAffiliation\n",
        "WHERE {\n",
        "?authorA <http://www.w3.org/ns/org#memberOf> ?someAffiliation .\n",
        "?authorA <http://lsdis.cs.uga.edu/projects/semdis/opus#coauthor> ?authorB .\n",
        "?authorB <http://www.w3.org/ns/org#memberOf> ?someAffiliation_ . # use underscore here\n",
        "} }\n",
        " \"\"\"\n",
        "\n",
        "qres = g.query(query) ## run SPARQL query over graph q\n",
        "for row in qres: ## for each result\n",
        "    print(f\"{row.cnt} \") ## print cnt from result, and it is 10384. "
      ]
    },
    {
      "attachments": {},
      "cell_type": "markdown",
      "metadata": {},
      "source": [
        "### Query 2.3 Insert rule\n",
        "Here we give this rule a **medium** confidence score 4236/10384 = 40.79%.\n"
      ]
    },
    {
      "cell_type": "code",
      "execution_count": 8,
      "metadata": {},
      "outputs": [
        {
          "name": "stdout",
          "output_type": "stream",
          "text": [
            "Original graph triples count: 89253\n",
            "New graph triples count: 112962\n"
          ]
        }
      ],
      "source": [
        "# query for inserting rule with a confidence score 0.4079\n",
        "query = \"\"\"\n",
        "INSERT { ?authorB <http://www.w3.org/ns/org#memberOf> ?someAffiliation .\n",
        "  ?authorB <http://example.org/confidence> ?someAffiliation .\n",
        "  ?authorB <http://example.org/confidence> \"0.4079\"^^xsd:double .} \n",
        "WHERE {\n",
        "?authorA <http://www.w3.org/ns/org#memberOf> ?someAffiliation .\n",
        "?authorA <http://lsdis.cs.uga.edu/projects/semdis/opus#coauthor> ?authorB .\n",
        "filter not exists {?authorB <http://www.w3.org/ns/org#memberOf> ?someAffiliation . } .\n",
        "}\n",
        "\"\"\" \n",
        "\n",
        "# Copy the original graph to a new graph\n",
        "gnew = copy.deepcopy(g)\n",
        "\n",
        "# Execute the SPARQL query\n",
        "gnew.update(query)\n",
        "\n",
        "# Sanity check\n",
        "print(\"Original graph triples count:\", len(g))\n",
        "print(\"New graph triples count:\", len(gnew))"
      ]
    },
    {
      "attachments": {},
      "cell_type": "markdown",
      "metadata": {},
      "source": [
        "## Guess 3: Missing hasDiscipline property based relations\n",
        " if two papers appear in the same conference, then they may have the same domain.\n",
        " \n",
        " hasDiscipline(?paperB, ?someDomain) ⇐ hasDiscipline(?paperA, ?someDomain) ∧ appearsInConferenceSeries(?paperA, ?someConference) ∧ appearsInConferenceSeries(?paperB, ?someConference)"
      ]
    },
    {
      "attachments": {},
      "cell_type": "markdown",
      "metadata": {},
      "source": [
        "### Query 3.1: count support"
      ]
    },
    {
      "cell_type": "code",
      "execution_count": 9,
      "metadata": {},
      "outputs": [
        {
          "name": "stdout",
          "output_type": "stream",
          "text": [
            "15125 \n"
          ]
        }
      ],
      "source": [
        "# query for counting support\n",
        "query = \"\"\"\n",
        "SELECT (count(*) as ?cnt) {\n",
        "SELECT DISTINCT ?paperB ?someDomain\n",
        "WHERE {\n",
        "?paperB <http://purl.org/spar/fabio/hasDiscipline> ?someDomain .\n",
        "?paperA <http://purl.org/spar/fabio/hasDiscipline> ?someDomain .\n",
        "?paperA <https://makg.org/property/appearsInConferenceSeries> ?someConference .\n",
        "?paperB <https://makg.org/property/appearsInConferenceSeries> ?someConference .\n",
        "}\n",
        "} \"\"\" \n",
        "\n",
        "qres = g.query(query) ## run SPARQL query over graph q\n",
        "for row in qres: ## for each result\n",
        "    print(f\"{row.cnt} \") ## print cnt from result, and it is 17776. "
      ]
    },
    {
      "attachments": {},
      "cell_type": "markdown",
      "metadata": {},
      "source": [
        "### Query 3.2 count body"
      ]
    },
    {
      "cell_type": "code",
      "execution_count": 10,
      "metadata": {
        "id": "0_QrEyvvwt_F"
      },
      "outputs": [
        {
          "name": "stdout",
          "output_type": "stream",
          "text": [
            "1337710 \n"
          ]
        }
      ],
      "source": [
        "# query for counting body\n",
        "\n",
        "query = \"\"\"\n",
        "SELECT (count(*) as ?cnt) {\n",
        "SELECT DISTINCT ?paperB ?someDomain\n",
        "WHERE {\n",
        "?paperA <http://purl.org/spar/fabio/hasDiscipline> ?someDomain .\n",
        "?paperA <https://makg.org/property/appearsInConferenceSeries> ?someConference .\n",
        "?paperB <https://makg.org/property/appearsInConferenceSeries> ?someConference .\n",
        "?paperB <http://purl.org/spar/fabio/hasDiscipline> ?someDomain_ . # with underscore\n",
        "} }\n",
        " \"\"\"\n",
        "\n",
        "qres = g.query(query) ## run SPARQL query over graph q\n",
        "for row in qres: ## for each result\n",
        "    print(f\"{row.cnt} \") ## print cnt from result, and it is 1337710. \n"
      ]
    },
    {
      "attachments": {},
      "cell_type": "markdown",
      "metadata": {},
      "source": [
        "### Query 3.3 Insert rule\n",
        "\n",
        "Here I will give this rule a **low** confidence score 15125/1337710 = 1.13%"
      ]
    },
    {
      "cell_type": "code",
      "execution_count": 11,
      "metadata": {},
      "outputs": [
        {
          "name": "stdout",
          "output_type": "stream",
          "text": [
            "Original graph triples count: 89253\n",
            "New graph triples count: 1442275\n"
          ]
        }
      ],
      "source": [
        "# query for inserting rule with a low confidence score 0.0113\n",
        "query = \"\"\"\n",
        "INSERT { ?paperB <http://purl.org/spar/fabio/hasDiscipline> ?someDomain .\n",
        "  ?authorB <http://example.org/confidence> ?someDomain .\n",
        "  ?authorB <http://example.org/confidence> \"0.0113\"^^xsd:double .}\n",
        "WHERE {\n",
        "?paperA <http://purl.org/spar/fabio/hasDiscipline> ?someDomain .\n",
        "?paperA <https://makg.org/property/appearsInConferenceSeries> ?someConference .\n",
        "?paperB <https://makg.org/property/appearsInConferenceSeries> ?someConference .\n",
        "filter not exists {?paperB <http://purl.org/spar/fabio/hasDiscipline> ?someDomain . }.\n",
        "}\n",
        "\"\"\" \n",
        "\n",
        "# Copy the original graph to a new graph\n",
        "gnew = copy.deepcopy(g)\n",
        "\n",
        "# Execute the SPARQL query\n",
        "gnew.update(query)\n",
        "\n",
        "# Sanity check\n",
        "print(\"Original graph triples count:\", len(g))\n",
        "print(\"New graph triples count:\", len(gnew))"
      ]
    },
    {
      "attachments": {},
      "cell_type": "markdown",
      "metadata": {},
      "source": [
        "## Guess 4: Missing appearsInConferenceSeries property based relations\n",
        "\n",
        "If one paper cites another one, their authors are both the member of the same affiliation, then they may appear in the same conference series.\n",
        "\n",
        " appearsInConferenceSeries(?paperB, ?someConference) ⇐ cites(?paperA, ?paperB) ∧ creator(?paperA, ?authorA) ∧ creator(?paperB, ?authorB) ∧ memberOf(?authorA, someAffiliation) ∧ memberOf(?authorB, someAffiliation) ∧ appearsInConferenceSeries(?paperA, ?someConference)"
      ]
    },
    {
      "cell_type": "markdown",
      "metadata": {},
      "source": [
        "### Query 4.1 count support"
      ]
    },
    {
      "cell_type": "code",
      "execution_count": 12,
      "metadata": {},
      "outputs": [
        {
          "name": "stdout",
          "output_type": "stream",
          "text": [
            "390 \n"
          ]
        }
      ],
      "source": [
        "# query for counting support\n",
        "query = \"\"\"\n",
        "SELECT (count(*) as ?cnt) {\n",
        "SELECT DISTINCT ?paperB ?someConference\n",
        "WHERE {\n",
        "?paperA <http://purl.org/spar/cito/cites> ?paperB .\n",
        "?paperA <http://purl.org/dc/terms/creator> ?authorA .\n",
        "?paperB <http://purl.org/dc/terms/creator> ?authorB .\n",
        "?authorA <http://www.w3.org/ns/org#memberOf> ?someAffiliation .\n",
        "?authorB <http://www.w3.org/ns/org#memberOf> ?someAffiliation .\n",
        "?paperA <https://makg.org/property/appearsInConferenceSeries> ?someConference .\n",
        "?paperB <https://makg.org/property/appearsInConferenceSeries> ?someConference .\n",
        "}\n",
        "} \"\"\" \n",
        "\n",
        "qres = g.query(query) ## run SPARQL query over graph q\n",
        "for row in qres: ## for each result\n",
        "    print(f\"{row.cnt} \") ## print cnt from result, and it is 390. "
      ]
    },
    {
      "cell_type": "markdown",
      "metadata": {},
      "source": [
        "### Query 4.2 count body"
      ]
    },
    {
      "cell_type": "code",
      "execution_count": 13,
      "metadata": {},
      "outputs": [
        {
          "name": "stdout",
          "output_type": "stream",
          "text": [
            "926 \n"
          ]
        }
      ],
      "source": [
        "# query for counting body\n",
        "query = \"\"\"\n",
        "SELECT (count(*) as ?cnt) {\n",
        "SELECT DISTINCT ?paperB ?someConference\n",
        "WHERE {\n",
        "?paperA <http://purl.org/spar/cito/cites> ?paperB .\n",
        "?paperA <http://purl.org/dc/terms/creator> ?authorA .\n",
        "?paperB <http://purl.org/dc/terms/creator> ?authorB .\n",
        "?authorA <http://www.w3.org/ns/org#memberOf> ?someAffiliation .\n",
        "?authorB <http://www.w3.org/ns/org#memberOf> ?someAffiliation .\n",
        "?paperA <https://makg.org/property/appearsInConferenceSeries> ?someConference .\n",
        "?paperB <https://makg.org/property/appearsInConferenceSeries> ?someConference_ . # use underscore\n",
        "}\n",
        "} \"\"\" \n",
        "\n",
        "qres = g.query(query) ## run SPARQL query over graph q\n",
        "for row in qres: ## for each result\n",
        "    print(f\"{row.cnt} \") ## print cnt from result, and it is 926. "
      ]
    },
    {
      "attachments": {},
      "cell_type": "markdown",
      "metadata": {},
      "source": [
        "### Query 4.3 insert rule\n",
        "\n",
        "Here I will give this rule a **high** confidence score 390/926 = 42.12%"
      ]
    },
    {
      "cell_type": "code",
      "execution_count": 14,
      "metadata": {},
      "outputs": [
        {
          "name": "stdout",
          "output_type": "stream",
          "text": [
            "Original graph triples count: 89253\n",
            "New graph triples count: 91173\n"
          ]
        }
      ],
      "source": [
        "# query for inserting rule with a high confidence score 0.7\n",
        "query = \"\"\"\n",
        "INSERT { ?paperB <https://makg.org/property/appearsInConferenceSeries> ?someConference .\n",
        "  ?paperB <http://example.org/confidence> ?someConference .\n",
        "  ?paperB <http://example.org/confidence> \"0.7\"^^xsd:double .}\n",
        "WHERE {\n",
        "?paperA <http://purl.org/spar/cito/cites> ?paperB .\n",
        "?paperA <http://purl.org/dc/terms/creator> ?authorA .\n",
        "?paperB <http://purl.org/dc/terms/creator> ?authorB .\n",
        "?authorA <http://www.w3.org/ns/org#memberOf> ?someAffiliation .\n",
        "?authorB <http://www.w3.org/ns/org#memberOf> ?someAffiliation .\n",
        "?paperA <https://makg.org/property/appearsInConferenceSeries> ?someConference .\n",
        "filter not exists {?paperB <https://makg.org/property/appearsInConferenceSeries> ?someConference . }.\n",
        "}\n",
        "\"\"\" \n",
        "\n",
        "# Copy the original graph to a new graph\n",
        "gnew = copy.deepcopy(g)\n",
        "\n",
        "# Execute the SPARQL query\n",
        "gnew.update(query)\n",
        "\n",
        "# Sanity check\n",
        "print(\"Original graph triples count:\", len(g))\n",
        "print(\"New graph triples count:\", len(gnew))"
      ]
    },
    {
      "attachments": {},
      "cell_type": "markdown",
      "metadata": {},
      "source": [
        "## Guess 5: missing cites property based relations\n",
        "\n",
        "If two papers have the same domain, and appear in the same conference, then one paper may cite the other paper.\n",
        "\n",
        "cites(?paperA, ?paperB) ⇐ appearsInConferenceSeries(?paperA, ?someConference) ∧ appearsInConferenceSeries(?paperB, ?someConference) ∧ hasDiscipline(?paperA, ?someDomain) ∧ hasDiscipline(?paperB, ?someDomain)"
      ]
    },
    {
      "attachments": {},
      "cell_type": "markdown",
      "metadata": {},
      "source": [
        "### Query 5.1 count support"
      ]
    },
    {
      "cell_type": "code",
      "execution_count": 15,
      "metadata": {},
      "outputs": [
        {
          "name": "stdout",
          "output_type": "stream",
          "text": [
            "1102 \n"
          ]
        }
      ],
      "source": [
        "# query for counting support\n",
        "query = \"\"\"\n",
        "SELECT (count(*) as ?cnt) {\n",
        "SELECT DISTINCT ?paperA ?paperB\n",
        "WHERE {\n",
        "?paperA <http://purl.org/spar/cito/cites> ?paperB .\n",
        "?paperA <https://makg.org/property/appearsInConferenceSeries> ?someConference .\n",
        "?paperB <https://makg.org/property/appearsInConferenceSeries> ?someConference .\n",
        "?paperA <http://purl.org/spar/fabio/hasDiscipline> ?someDomain .\n",
        "?paperB <http://purl.org/spar/fabio/hasDiscipline> ?someDomain .\n",
        "}\n",
        "} \"\"\" \n",
        "\n",
        "qres = g.query(query) ## run SPARQL query over graph q\n",
        "for row in qres: ## for each result\n",
        "    print(f\"{row.cnt} \") ## print cnt from result, and it is 1102. "
      ]
    },
    {
      "attachments": {},
      "cell_type": "markdown",
      "metadata": {},
      "source": [
        "### Query 5.2 count body"
      ]
    },
    {
      "cell_type": "code",
      "execution_count": 16,
      "metadata": {},
      "outputs": [
        {
          "name": "stdout",
          "output_type": "stream",
          "text": [
            "204263 \n"
          ]
        }
      ],
      "source": [
        "# query for counting body\n",
        "query = \"\"\"\n",
        "SELECT (count(*) as ?cnt) {\n",
        "SELECT DISTINCT ?paperA ?paperB\n",
        "WHERE {\n",
        "?paperA <https://makg.org/property/appearsInConferenceSeries> ?someConference .\n",
        "?paperB <https://makg.org/property/appearsInConferenceSeries> ?someConference .\n",
        "?paperA <http://purl.org/spar/fabio/hasDiscipline> ?someDomain .\n",
        "?paperB <http://purl.org/spar/fabio/hasDiscipline> ?someDomain .\n",
        "}\n",
        "} \"\"\" \n",
        "\n",
        "qres = g.query(query) ## run SPARQL query over graph q\n",
        "for row in qres: ## for each result\n",
        "    print(f\"{row.cnt} \") ## print cnt from result, and it is 204263. "
      ]
    },
    {
      "attachments": {},
      "cell_type": "markdown",
      "metadata": {},
      "source": [
        "### Query 5.3 insert rule\n",
        "\n",
        "Here I will give this rule a **low** confidence score 2%"
      ]
    },
    {
      "cell_type": "code",
      "execution_count": 17,
      "metadata": {},
      "outputs": [
        {
          "name": "stdout",
          "output_type": "stream",
          "text": [
            "Original graph triples count: 89253\n",
            "New graph triples count: 499762\n"
          ]
        }
      ],
      "source": [
        "# query for inserting rule with a low confidence score 0.02\n",
        "query = \"\"\"\n",
        "INSERT { ?paperA <http://purl.org/spar/cito/cites> ?paperB .\n",
        "  ?paperA <http://example.org/confidence> ?paperB .\n",
        "  ?paperA <http://example.org/confidence> \"0.02\"^^xsd:double .}\n",
        "WHERE {\n",
        "?paperA <https://makg.org/property/appearsInConferenceSeries> ?someConference .\n",
        "?paperB <https://makg.org/property/appearsInConferenceSeries> ?someConference .\n",
        "?paperA <http://purl.org/spar/fabio/hasDiscipline> ?someDomain .\n",
        "?paperB <http://purl.org/spar/fabio/hasDiscipline> ?someDomain .\n",
        "filter not exists {?paperA <http://purl.org/spar/cito/cites> ?paperB .}.\n",
        "}\n",
        "\"\"\" \n",
        "\n",
        "# Copy the original graph to a new graph\n",
        "gnew = copy.deepcopy(g)\n",
        "\n",
        "# Execute the SPARQL query\n",
        "gnew.update(query)\n",
        "\n",
        "# Sanity check\n",
        "print(\"Original graph triples count:\", len(g))\n",
        "print(\"New graph triples count:\", len(gnew))"
      ]
    }
  ],
  "metadata": {
    "colab": {
      "provenance": []
    },
    "kernelspec": {
      "display_name": "Python 3",
      "name": "python3"
    },
    "language_info": {
      "codemirror_mode": {
        "name": "ipython",
        "version": 3
      },
      "file_extension": ".py",
      "mimetype": "text/x-python",
      "name": "python",
      "nbconvert_exporter": "python",
      "pygments_lexer": "ipython3",
      "version": "3.9.13"
    }
  },
  "nbformat": 4,
  "nbformat_minor": 0
}
