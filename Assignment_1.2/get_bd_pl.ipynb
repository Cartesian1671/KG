{
 "cells": [
  {
   "attachments": {},
   "cell_type": "markdown",
   "metadata": {},
   "source": [
    "### Disclaimer:\n",
    "> Parts of this code were created with the help of ChatGPT"
   ]
  },
  {
   "cell_type": "code",
   "execution_count": 1,
   "metadata": {},
   "outputs": [],
   "source": [
    "from SPARQLWrapper import SPARQLWrapper, JSON\n",
    "from rdflib import Graph, RDF, URIRef, Literal, XSD"
   ]
  },
  {
   "cell_type": "code",
   "execution_count": 2,
   "metadata": {},
   "outputs": [
    {
     "data": {
      "text/plain": [
       "<Graph identifier=N9448836f7a284ccea82a11929eab832d (<class 'rdflib.graph.Graph'>)>"
      ]
     },
     "execution_count": 2,
     "metadata": {},
     "output_type": "execute_result"
    }
   ],
   "source": [
    "# Load our current Knowledge Graphs including \"owl:sameAs\" connections\n",
    "g = Graph()\n",
    "g.parse('./full_KG.ttl')"
   ]
  },
  {
   "cell_type": "code",
   "execution_count": 3,
   "metadata": {},
   "outputs": [],
   "source": [
    "# Creation an endpoint to send the sparql queries to\n",
    "endpoint = \"https://dbpedia.org/sparql\"\n",
    "sparql = SPARQLWrapper(endpoint)\n"
   ]
  },
  {
   "cell_type": "code",
   "execution_count": 4,
   "metadata": {},
   "outputs": [],
   "source": [
    "# Get all the artist URIs from dbpedia\n",
    "q = \"\"\"\n",
    "PREFIX ex: <http://example.org/>\n",
    "PREFIX schema: <https://schema.org/>\n",
    "PREFIX owl: <http://www.w3.org/2002/07/owl#>\n",
    "\n",
    "SELECT DISTINCT ?realArtist\n",
    "WHERE {\n",
    "  ?song schema:byArtist ?artist .\n",
    "  ?artist owl:sameAs ?realArtist .\n",
    "}\n",
    "\"\"\"\n",
    "\n",
    "artist_uris = []\n",
    "result = g.query(q)\n",
    "for r in result:\n",
    "    artist_uris.append(str(r[0]))"
   ]
  },
  {
   "cell_type": "code",
   "execution_count": 5,
   "metadata": {},
   "outputs": [],
   "source": [
    "# For all Aristst, create a new query that is looking for the birthDate and birthPlace\n",
    "all_results = []\n",
    "for artist_uri in artist_uris:\n",
    "    bdpl_query = f\"\"\"\n",
    "    PREFIX dbo: <http://dbpedia.org/ontology/>\n",
    "    PREFIX dbp: <http://dbpedia.org/property/>\n",
    "\n",
    "    SELECT ?birthdate ?birthplace\n",
    "    WHERE {{\n",
    "        <{artist_uri}> dbo:birthDate ?birthdate .\n",
    "        <{artist_uri}> dbp:birthPlace ?birthplace .\n",
    "    }}\n",
    "    \"\"\"\n",
    "    \n",
    "    # Run the query\n",
    "    sparql.setQuery(bdpl_query)\n",
    "    sparql.setReturnFormat(JSON)\n",
    "    all_results.append(sparql.query().convert())"
   ]
  },
  {
   "cell_type": "code",
   "execution_count": 6,
   "metadata": {},
   "outputs": [
    {
     "name": "stdout",
     "output_type": "stream",
     "text": [
      "{'head': {'link': [], 'vars': ['birthdate', 'birthplace']}, 'results': {'distinct': False, 'ordered': True, 'bindings': []}}\n",
      "{'head': {'link': [], 'vars': ['birthdate', 'birthplace']}, 'results': {'distinct': False, 'ordered': True, 'bindings': [{'birthdate': {'type': 'typed-literal', 'datatype': 'http://www.w3.org/2001/XMLSchema#date', 'value': '1996-07-11'}, 'birthplace': {'type': 'literal', 'xml:lang': 'en', 'value': 'Mississauga, Ontario, Canada'}}]}}\n"
     ]
    }
   ],
   "source": [
    "# Some results did not find anything\n",
    "print(all_results[0]) # found nothing\n",
    "print(all_results[4]) # found something"
   ]
  },
  {
   "cell_type": "code",
   "execution_count": 7,
   "metadata": {},
   "outputs": [
    {
     "name": "stdout",
     "output_type": "stream",
     "text": [
      "http://dbpedia.org/resource/Adele was born in London, England on 1988-05-05\n",
      "http://dbpedia.org/resource/Alan_Walker was born in Northampton, England on 1997-08-24\n",
      "http://dbpedia.org/resource/Alessia_Cara was born in Mississauga, Ontario, Canada on 1996-07-11\n",
      "http://dbpedia.org/resource/Alesso was born in http://dbpedia.org/resource/Stockholm on 1991-07-07\n",
      "http://dbpedia.org/resource/Alicia_Keys was born in New York City, U.S. on 1981-01-25\n",
      "http://dbpedia.org/resource/Ariana_Grande was born in Boca Raton, Florida, U.S. on 1993-06-26\n",
      "http://dbpedia.org/resource/Austin_Mahone was born in San Antonio, Texas, U.S. on 1996-04-04\n",
      "http://dbpedia.org/resource/Avicii was born in Stockholm, Sweden on 1989-09-08\n",
      "http://dbpedia.org/resource/Bebe_Rexha was born in Brooklyn, New York City, U.S. on 1989-08-30\n",
      "http://dbpedia.org/resource/Birdy_(singer) was born in Lymington, Hampshire, England on 1996-05-15\n",
      "http://dbpedia.org/resource/Britney_Spears was born in McComb, Mississippi, U.S. on 1981-12-02\n",
      "http://dbpedia.org/resource/Bruno_Mars was born in Honolulu, Hawaii, U.S. on 1985-10-08\n",
      "http://dbpedia.org/resource/Calvin_Harris was born in Dumfries, Scotland on 1984-01-17\n",
      "http://dbpedia.org/resource/Camila_Cabello was born in Cojímar, Havana, Cuba on 1997-03-03\n",
      "http://dbpedia.org/resource/Carly_Rae_Jepsen was born in Mission, British Columbia, Canada on 1985-11-21\n",
      "http://dbpedia.org/resource/Cashmere_Cat was born in Halden, Norway on 1987-11-29\n",
      "http://dbpedia.org/resource/Charli_XCX was born in Cambridge, England, U.K. on 1992-08-02\n",
      "http://dbpedia.org/resource/Charlie_Puth was born in Rumson, New Jersey, U.S. on 1991-12-02\n",
      "http://dbpedia.org/resource/Chris_Brown was born in Tappahannock, Virginia, U.S. on 1989-05-05\n",
      "http://dbpedia.org/resource/Christina_Perri was born in Bensalem, Pennsylvania, U.S. on 1986-08-19\n",
      "http://dbpedia.org/resource/Ciara was born in Fort Hood, Texas, U.S. on 1985-10-25\n",
      "http://dbpedia.org/resource/DJ_Snake was born in Paris, France on 1986-06-13\n",
      "http://dbpedia.org/resource/Daddy_Yankee was born in http://dbpedia.org/resource/San_Juan,_Puerto_Rico on 1976-02-03\n",
      "http://dbpedia.org/resource/Thomas_Bangalter was born in Paris, France on 1975-01-03\n",
      "http://dbpedia.org/resource/Demi_Lovato was born in Albuquerque, New Mexico, U.S. on 1992-08-20\n",
      "http://dbpedia.org/resource/Dua_Lipa was born in London, England on 1995-08-22\n",
      "http://dbpedia.org/resource/Ed_Sheeran was born in Halifax, West Yorkshire, England on 1991-02-17\n",
      "http://dbpedia.org/resource/Eminem was born in St. Joseph, Missouri, U.S. on 1972-10-17\n",
      "http://dbpedia.org/resource/Enrique_Iglesias was born in http://dbpedia.org/resource/Francoist_Spain on 1975-05-08\n",
      "http://dbpedia.org/resource/Fergie_(singer) was born in Hacienda Heights, California, U.S. on 1975-03-27\n",
      "http://dbpedia.org/resource/Flo_Rida was born in Miami Gardens, Florida, U.S. on 1979-09-16\n",
      "http://dbpedia.org/resource/G-Eazy was born in Oakland, California, U.S. on 1989-05-24\n",
      "http://dbpedia.org/resource/Gwen_Stefani was born in Fullerton, California, U.S. on 1969-10-03\n",
      "http://dbpedia.org/resource/Halsey_(singer) was born in Edison, New Jersey, U.S. on 1994-09-29\n",
      "http://dbpedia.org/resource/Harry_Styles was born in Redditch, England on 1994-02-01\n",
      "http://dbpedia.org/resource/Hozier_(musician) was born in Bray, County Wicklow, Ireland on 1990-03-17\n",
      "http://dbpedia.org/resource/Iggy_Azalea was born in Sydney, New South Wales, Australia on 1990-06-07\n",
      "http://dbpedia.org/resource/J_Balvin was born in Medellín, Colombia on 1985-05-07\n",
      "http://dbpedia.org/resource/James_Arthur was born in Middlesbrough, North Yorkshire, England on 1988-03-02\n",
      "http://dbpedia.org/resource/Janet_Jackson was born in Gary, Indiana, U.S. on 1966-05-16\n",
      "http://dbpedia.org/resource/Jason_Derulo was born in Miramar, Florida, U.S. on 1989-09-21\n",
      "http://dbpedia.org/resource/Jennifer_Hudson was born in Chicago, Illinois, U.S. on 1981-09-12\n",
      "http://dbpedia.org/resource/Jess_Glynne was born in Hampstead, London, England on 1989-10-20\n",
      "http://dbpedia.org/resource/Joey_Montana was born in http://dbpedia.org/resource/Boquete_District on 1982-05-03\n",
      "http://dbpedia.org/resource/John_Legend was born in Springfield, Ohio, U.S. on 1978-12-28\n",
      "http://dbpedia.org/resource/Jonas_Blue was born in Chelmsford, Essex, England on 1989-08-02\n",
      "http://dbpedia.org/resource/Justin_Bieber was born in London, Ontario, Canada on 1994-03-01\n",
      "http://dbpedia.org/resource/Justin_Timberlake was born in Memphis, Tennessee, U.S. on 1981-01-31\n",
      "http://dbpedia.org/resource/Kanye_West was born in Atlanta, Georgia, U.S. on 1977-06-08\n",
      "http://dbpedia.org/resource/Kelly_Clarkson was born in Fort Worth, Texas, U.S. on 1982-04-24\n",
      "http://dbpedia.org/resource/Kesha was born in http://dbpedia.org/resource/Los_Angeles on 1987-03-01\n",
      "http://dbpedia.org/resource/Kygo was born in Singapore on 1991-09-11\n",
      "http://dbpedia.org/resource/Labrinth was born in Hackney, London, England on 1989-01-04\n",
      "http://dbpedia.org/resource/Lady_Gaga was born in New York City, U.S. on 1986-03-28\n",
      "http://dbpedia.org/resource/Lana_Del_Rey was born in New York City, U.S. on 1985-06-21\n",
      "http://dbpedia.org/resource/Lewis_Capaldi was born in http://dbpedia.org/resource/Glasgow,_Scotland on 1996-10-07\n",
      "http://dbpedia.org/resource/Liam_Payne was born in Wolverhampton, England on 1993-08-29\n",
      "http://dbpedia.org/resource/Lily_Allen was born in Hammersmith, London, England on 1985-05-02\n",
      "http://dbpedia.org/resource/Lizzo was born in Detroit, Michigan, U.S. on 1988-04-27\n",
      "http://dbpedia.org/resource/Lorde was born in Takapuna, Auckland, New Zealand on 1996-11-07\n",
      "http://dbpedia.org/resource/Lost_Frequencies was born in Brussels, Belgium on 1993-11-30\n",
      "http://dbpedia.org/resource/Luis_Fonsi was born in San Juan, Puerto Rico on 1978-04-15\n",
      "http://dbpedia.org/resource/Marshmello was born in Philadelphia, Pennsylvania, U.S. on 1992-05-19\n",
      "http://dbpedia.org/resource/Martin_Garrix was born in Amstelveen, Netherlands on 1996-05-14\n",
      "http://dbpedia.org/resource/Martin_Solveig was born in Paris, France on 1976-09-22\n",
      "http://dbpedia.org/resource/Meghan_Trainor was born in Nantucket, Massachusetts, U.S. on 1993-12-22\n",
      "http://dbpedia.org/resource/Michael_Jackson was born in Gary, Indiana, U.S. on 1958-08-29\n",
      "http://dbpedia.org/resource/Mike_Posner was born in Detroit, Michigan, U.S. on 1988-02-12\n",
      "http://dbpedia.org/resource/Miley_Cyrus was born in Franklin, Tennessee, U.S. on 1992-11-23\n",
      "http://dbpedia.org/resource/Missy_Elliott was born in Portsmouth, Virginia, U.S. on 1971-07-01\n",
      "http://dbpedia.org/resource/Naughty_Boy was born in Watford, England on 1981-01-01\n",
      "http://dbpedia.org/resource/Ne-Yo was born in Camden, Arkansas, U.S. on 1979-10-18\n",
      "http://dbpedia.org/resource/Niall_Horan was born in Mullingar, Westmeath, Ireland on 1993-09-13\n",
      "http://dbpedia.org/resource/Nick_Jonas was born in Dallas, Texas, U.S. on 1992-09-16\n",
      "http://dbpedia.org/resource/Nicki_Minaj was born in http://dbpedia.org/resource/Saint_James,_Trinidad_and_Tobago on 1982-12-08\n",
      "http://dbpedia.org/resource/Paloma_Faith was born in London, England on 1981-07-21\n",
      "http://dbpedia.org/resource/Passenger_(singer) was born in Brighton, England on 1984-05-17\n",
      "http://dbpedia.org/resource/Pharrell_Williams was born in Virginia Beach, Virginia, U.S. on 1973-04-05\n",
      "http://dbpedia.org/resource/Pitbull_(rapper) was born in Miami, Florida, U.S on 1981-01-15\n",
      "http://dbpedia.org/resource/RedOne was born in Tétouan, Morocco on 1972-04-09\n",
      "http://dbpedia.org/resource/Ricky_Martin was born in http://dbpedia.org/resource/San_Juan,_Puerto_Rico on 1971-12-24\n",
      "http://dbpedia.org/resource/Rihanna was born in Saint Michael, Barbados on 1988-02-20\n",
      "http://dbpedia.org/resource/Rita_Ora was born in http://dbpedia.org/resource/Socialist_Federal_Republic_of_Yugoslavia on 1990-11-26\n",
      "http://dbpedia.org/resource/Robin_Schulz was born in http://dbpedia.org/resource/West_Germany on 1987-04-28\n",
      "http://dbpedia.org/resource/Robin_Thicke was born in Los Angeles, California, U.S. on 1977-03-10\n",
      "http://dbpedia.org/resource/Sean_Kingston was born in Miami, Florida, U.S. on 1990-02-03\n",
      "http://dbpedia.org/resource/Selena_Gomez was born in Grand Prairie, Texas, U.S. on 1992-07-22\n",
      "http://dbpedia.org/resource/Shakira was born in Barranquilla, Colombia on 1977-02-02\n",
      "http://dbpedia.org/resource/Sigala was born in Norfolk, England on 1989-11-01\n",
      "http://dbpedia.org/resource/Taio_Cruz was born in Brent, Greater London, England on 1980-04-23\n",
      "http://dbpedia.org/resource/Taylor_Swift was born in West Reading, Pennsylvania, U.S. on 1989-12-13\n",
      "http://dbpedia.org/resource/Tinie_Tempah was born in Plumstead, London, England on 1988-11-07\n",
      "http://dbpedia.org/resource/Wiz_Khalifa was born in Minot, North Dakota, U.S. on 1987-09-08\n",
      "http://dbpedia.org/resource/Zara_Larsson was born in Solna, Stockholm, Sweden on 1997-12-16\n",
      "http://dbpedia.org/resource/Zedd was born in http://dbpedia.org/resource/Saratov on 1989-09-02\n",
      "http://dbpedia.org/resource/Will.i.am was born in Los Angeles, California, U.S. on 1975-03-15\n"
     ]
    }
   ],
   "source": [
    "for a, r in zip(artist_uris, all_results):\n",
    "    if len(r['results']['bindings']) == 0: # if nothing was found, ignore this URI and go to the next\n",
    "        continue\n",
    "    \n",
    "    print(f\"{a} was born in {r['results']['bindings'][0]['birthplace']['value']} on {r['results']['bindings'][0]['birthdate']['value']}\")"
   ]
  },
  {
   "cell_type": "code",
   "execution_count": 8,
   "metadata": {},
   "outputs": [],
   "source": [
    "# Create a new knowledge graph with the new infos\n",
    "g_result = Graph()\n",
    "for a, r in zip(artist_uris, all_results):\n",
    "    if len(r['results']['bindings']) == 0:\n",
    "        continue\n",
    "    \n",
    "    g_result.add((URIRef(a), \n",
    "                 URIRef(\"http://dbpedia.org/ontology/birthDate\"), \n",
    "                 Literal(r['results']['bindings'][0]['birthdate']['value'], datatype=XSD.date)))\n",
    "    g_result.add((URIRef(a),\n",
    "                 URIRef(\"http://dbpedia.org/ontology/birthPlace\"),\n",
    "                 Literal(r['results']['bindings'][0]['birthplace']['value'], lang='en')))\n"
   ]
  },
  {
   "cell_type": "code",
   "execution_count": 9,
   "metadata": {},
   "outputs": [
    {
     "data": {
      "text/plain": [
       "<Graph identifier=N4e1f2ef02d0f438ab9bc9da81b38edc9 (<class 'rdflib.graph.Graph'>)>"
      ]
     },
     "execution_count": 9,
     "metadata": {},
     "output_type": "execute_result"
    }
   ],
   "source": [
    "g_result.serialize('bdpl.ttl', format='ttl')"
   ]
  },
  {
   "cell_type": "code",
   "execution_count": null,
   "metadata": {},
   "outputs": [],
   "source": []
  }
 ],
 "metadata": {
  "kernelspec": {
   "display_name": "Python 3",
   "language": "python",
   "name": "python3"
  },
  "language_info": {
   "codemirror_mode": {
    "name": "ipython",
    "version": 3
   },
   "file_extension": ".py",
   "mimetype": "text/x-python",
   "name": "python",
   "nbconvert_exporter": "python",
   "pygments_lexer": "ipython3",
   "version": "3.9.13"
  },
  "orig_nbformat": 4
 },
 "nbformat": 4,
 "nbformat_minor": 2
}
