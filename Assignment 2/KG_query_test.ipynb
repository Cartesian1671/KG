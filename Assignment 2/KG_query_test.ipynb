{
 "cells": [
  {
   "cell_type": "code",
   "execution_count": 29,
   "metadata": {},
   "outputs": [],
   "source": [
    "from rdflib import Graph, Literal, RDF, URIRef, Namespace"
   ]
  },
  {
   "cell_type": "code",
   "execution_count": 33,
   "metadata": {},
   "outputs": [
    {
     "data": {
      "text/plain": [
       "<Graph identifier=Nd0d5cd69484c467fa850810f8d06beab (<class 'rdflib.graph.Graph'>)>"
      ]
     },
     "execution_count": 33,
     "metadata": {},
     "output_type": "execute_result"
    }
   ],
   "source": [
    "g = Graph()\n",
    "g.parse('./output.ttl', format='ttl')"
   ]
  },
  {
   "attachments": {},
   "cell_type": "markdown",
   "metadata": {},
   "source": [
    "---\n",
    "### <b>Query:</b> Return a list of artists and their names who produce songs with genres other than \"pop\" and \"dance pop.\"\n"
   ]
  },
  {
   "cell_type": "code",
   "execution_count": 108,
   "metadata": {},
   "outputs": [
    {
     "name": "stdout",
     "output_type": "stream",
     "text": [
      "['http://example.org/Train', 'Train']\n",
      "['http://example.org/Eminem', 'Eminem']\n",
      "['http://example.org/Justin%20Bieber', 'Justin Bieber']\n",
      "['http://example.org/Alicia%20Keys', 'Alicia Keys']\n",
      "['http://example.org/Rihanna', 'Rihanna']\n",
      "['http://example.org/Usher', 'Usher']\n",
      "['http://example.org/Adam%20Lambert', 'Adam Lambert']\n",
      "['http://example.org/Neon%20Trees', 'Neon Trees']\n",
      "['http://example.org/Florence%20%2B%20The%20Machine', 'Florence + The Machine']\n",
      "['http://example.org/Shakira', 'Shakira']\n",
      "['http://example.org/T.I.', 'T.I.']\n",
      "['http://example.org/Martin%20Solveig', 'Martin Solveig']\n",
      "['http://example.org/Adele', 'Adele']\n",
      "['http://example.org/Avril%20Lavigne', 'Avril Lavigne']\n",
      "['http://example.org/Kanye%20West', 'Kanye West']\n",
      "['http://example.org/Jessie%20J', 'Jessie J']\n",
      "['http://example.org/Sleeping%20At%20Last', 'Sleeping At Last']\n",
      "['http://example.org/Coldplay', 'Coldplay']\n",
      "['http://example.org/One%20Direction', 'One Direction']\n",
      "['http://example.org/Carly%20Rae%20Jepsen', 'Carly Rae Jepsen']\n",
      "['http://example.org/The%20Wanted', 'The Wanted']\n",
      "['http://example.org/fun.', 'fun.']\n",
      "['http://example.org/Avicii', 'Avicii']\n",
      "['http://example.org/The%20Script', 'The Script']\n",
      "['http://example.org/Swedish%20House%20Mafia', 'Swedish House Mafia']\n",
      "['http://example.org/Daft%20Punk', 'Daft Punk']\n",
      "['http://example.org/Zedd', 'Zedd']\n",
      "['http://example.org/Lana%20Del%20Rey', 'Lana Del Rey']\n",
      "['http://example.org/Drake', 'Drake']\n",
      "['http://example.org/Sara%20Bareilles', 'Sara Bareilles']\n",
      "['http://example.org/Icona%20Pop', 'Icona Pop']\n",
      "['http://example.org/Jonas%20Brothers', 'Jonas Brothers']\n",
      "['http://example.org/Jewel', 'Jewel']\n",
      "['http://example.org/Kelly%20Rowland', 'Kelly Rowland']\n",
      "['http://example.org/John%20Legend', 'John Legend']\n",
      "['http://example.org/Passenger', 'Passenger']\n",
      "['http://example.org/Bastille', 'Bastille']\n",
      "['http://example.org/Lorde', 'Lorde']\n",
      "['http://example.org/Disclosure', 'Disclosure']\n",
      "['http://example.org/5%20Seconds%20of%20Summer', '5 Seconds of Summer']\n",
      "['http://example.org/Iggy%20Azalea', 'Iggy Azalea']\n",
      "['http://example.org/The%20Chainsmokers', 'The Chainsmokers']\n",
      "['http://example.org/Birdy', 'Birdy']\n",
      "['http://example.org/A%20Great%20Big%20World', 'A Great Big World']\n",
      "['http://example.org/Sia', 'Sia']\n",
      "['http://example.org/Charli%20XCX', 'Charli XCX']\n",
      "['http://example.org/Lea%20Michele', 'Lea Michele']\n",
      "['http://example.org/The%20Weeknd', 'The Weeknd']\n",
      "['http://example.org/Hozier', 'Hozier']\n",
      "['http://example.org/Shawn%20Mendes', 'Shawn Mendes']\n",
      "['http://example.org/Mr.%20Probz', 'Mr. Probz']\n",
      "['http://example.org/Paloma%20Faith', 'Paloma Faith']\n",
      "['http://example.org/Naughty%20Boy', 'Naughty Boy']\n",
      "['http://example.org/Alessia%20Cara', 'Alessia Cara']\n",
      "['http://example.org/Lost%20Frequencies', 'Lost Frequencies']\n",
      "['http://example.org/Lilly%20Wood%20and%20The%20Prick', 'Lilly Wood and The Prick']\n",
      "['http://example.org/Wiz%20Khalifa', 'Wiz Khalifa']\n",
      "['http://example.org/Alesso', 'Alesso']\n",
      "['http://example.org/Martin%20Garrix', 'Martin Garrix']\n",
      "['http://example.org/Lukas%20Graham', 'Lukas Graham']\n",
      "['http://example.org/G-Eazy', 'G-Eazy']\n",
      "['http://example.org/B%C3%83%CB%9CRNS', 'BÃ˜RNS']\n",
      "['http://example.org/Joey%20Montana', 'Joey Montana']\n",
      "['http://example.org/Nelly%20Furtado', 'Nelly Furtado']\n",
      "['http://example.org/DJ%20Snake', 'DJ Snake']\n",
      "['http://example.org/Kygo', 'Kygo']\n",
      "['http://example.org/Luis%20Fonsi', 'Luis Fonsi']\n",
      "['http://example.org/CNCO', 'CNCO']\n",
      "['http://example.org/Alan%20Walker', 'Alan Walker']\n",
      "['http://example.org/Cashmere%20Cat', 'Cashmere Cat']\n",
      "['http://example.org/Galantis', 'Galantis']\n",
      "['http://example.org/Silk%20City', 'Silk City']\n",
      "['http://example.org/Marshmello', 'Marshmello']\n",
      "['http://example.org/Dan%20%2B%20Shay', 'Dan + Shay']\n",
      "['http://example.org/J%20Balvin', 'J Balvin']\n",
      "['http://example.org/N.E.R.D', 'N.E.R.D']\n",
      "['http://example.org/RedOne', 'RedOne']\n",
      "['http://example.org/SHAED', 'SHAED']\n",
      "['http://example.org/Lizzo', 'Lizzo']\n",
      "['http://example.org/Khalid', 'Khalid']\n",
      "['http://example.org/R3HAB', 'R3HAB']\n",
      "['http://example.org/Daddy%20Yankee', 'Daddy Yankee']\n"
     ]
    }
   ],
   "source": [
    "q = \"\"\"\n",
    "PREFIX ex: <http://example.org/>\n",
    "PREFIX schema: <https://schema.org/>\n",
    "\n",
    "SELECT DISTINCT ?artist ?artist_name\n",
    "WHERE {\n",
    "  ?song schema:byArtist ?artist .\n",
    "  ?song schema:genre ?genre .\n",
    "  ?artist rdfs:label ?artist_name .\n",
    "  ?genre rdfs:label ?genre_name .\n",
    "  FILTER(?genre_name != \"pop\"@en && ?genre_name != \"dance pop\"@en)\n",
    "}\n",
    "\"\"\"\n",
    "\n",
    "result = g.query(q)\n",
    "for r in result:\n",
    "    print([str(r[0]), str(r[1])])"
   ]
  },
  {
   "attachments": {},
   "cell_type": "markdown",
   "metadata": {},
   "source": [
    "---\n",
    "### <b>Query:</b> Return a list of songs released in 2016 by artists born before 1990.\n",
    "\n",
    "# `TODO`"
   ]
  },
  {
   "attachments": {},
   "cell_type": "markdown",
   "metadata": {},
   "source": [
    "---\n",
    "### <b>Query:</b> Who is the artist that has produced the greatest number of songs?\n"
   ]
  },
  {
   "cell_type": "code",
   "execution_count": 93,
   "metadata": {},
   "outputs": [
    {
     "name": "stdout",
     "output_type": "stream",
     "text": [
      "Katy Perry with 17 songs\n"
     ]
    }
   ],
   "source": [
    "q = \"\"\"\n",
    "PREFIX ex: <http://example.org/>\n",
    "PREFIX schema: <https://schema.org/>\n",
    "\n",
    "SELECT ?artist_name (COUNT(?song) as ?sum_songs)\n",
    "WHERE {\n",
    "  ?song schema:byArtist ?artist .\n",
    "  ?artist rdfs:label ?artist_name .\n",
    "}\n",
    "GROUP BY ?artist\n",
    "ORDER BY DESC(?sum_songs)\n",
    "LIMIT 1\n",
    "\"\"\"\n",
    "\n",
    "result = g.query(q)\n",
    "for r in result:\n",
    "  print(str(r[0]), \"with\", str(r[1]), \"songs\")"
   ]
  },
  {
   "attachments": {},
   "cell_type": "markdown",
   "metadata": {},
   "source": [
    "---\n",
    "<b>Query:</b> Return a list of artists born in the USA, sorted by the number of songs they have produced.\n",
    "\n",
    "# `TODO`"
   ]
  },
  {
   "cell_type": "code",
   "execution_count": 113,
   "metadata": {},
   "outputs": [
    {
     "name": "stdout",
     "output_type": "stream",
     "text": [
      "Justin Bieber with 2 song(s)\n",
      "OneRepublic with 2 song(s)\n",
      "Rihanna with 2 song(s)\n",
      "Maroon 5 with 2 song(s)\n",
      "BeyoncÃ© with 2 song(s)\n",
      "Selena Gomez with 2 song(s)\n",
      "Sigala with 2 song(s)\n",
      "Eminem with 1 song(s)\n",
      "Kesha with 1 song(s)\n",
      "Usher with 1 song(s)\n",
      "Selena Gomez & The Scene with 1 song(s)\n",
      "Enrique Iglesias with 1 song(s)\n",
      "Katy Perry with 1 song(s)\n",
      "Adele with 1 song(s)\n",
      "Pitbull with 1 song(s)\n",
      "Ellie Goulding with 1 song(s)\n",
      "Demi Lovato with 1 song(s)\n",
      "Lana Del Rey with 1 song(s)\n",
      "Calvin Harris with 1 song(s)\n",
      "Ne-Yo with 1 song(s)\n",
      "Ariana Grande with 1 song(s)\n",
      "Icona Pop with 1 song(s)\n",
      "Fergie with 1 song(s)\n",
      "Little Mix with 1 song(s)\n",
      "Austin Mahone with 1 song(s)\n",
      "John Newman with 1 song(s)\n",
      "Michael Jackson with 1 song(s)\n",
      "Paloma Faith with 1 song(s)\n",
      "Madonna with 1 song(s)\n",
      "Martin Garrix with 1 song(s)\n",
      "BÃ˜RNS with 1 song(s)\n",
      "DJ Snake with 1 song(s)\n",
      "Kygo with 1 song(s)\n",
      "Cashmere Cat with 1 song(s)\n",
      "Halsey with 1 song(s)\n",
      "Lewis Capaldi with 1 song(s)\n"
     ]
    }
   ],
   "source": [
    "q = \"\"\"\n",
    "PREFIX ex: <http://example.org/>\n",
    "PREFIX schema: <https://schema.org/>\n",
    "\n",
    "SELECT ?artist_name (COUNT(?song) as ?sum_songs)\n",
    "WHERE {\n",
    "  ?song schema:byArtist ?artist .\n",
    "  ?song rdfs:label ?song_name .\n",
    "  ?artist rdfs:label ?artist_name .\n",
    "  FILTER regex(?song_name, \"love\", \"i\")\n",
    "}\n",
    "GROUP BY ?artist\n",
    "ORDER BY DESC(?sum_songs)\n",
    "\"\"\"\n",
    "\n",
    "result = g.query(q)\n",
    "for r in result:\n",
    "    print(str(r[0]), \"with\", str(r[1]), \"song(s)\")\n"
   ]
  },
  {
   "cell_type": "code",
   "execution_count": null,
   "metadata": {},
   "outputs": [],
   "source": []
  }
 ],
 "metadata": {
  "kernelspec": {
   "display_name": "Python 3",
   "language": "python",
   "name": "python3"
  },
  "language_info": {
   "codemirror_mode": {
    "name": "ipython",
    "version": 3
   },
   "file_extension": ".py",
   "mimetype": "text/x-python",
   "name": "python",
   "nbconvert_exporter": "python",
   "pygments_lexer": "ipython3",
   "version": "3.9.13"
  },
  "orig_nbformat": 4
 },
 "nbformat": 4,
 "nbformat_minor": 2
}
