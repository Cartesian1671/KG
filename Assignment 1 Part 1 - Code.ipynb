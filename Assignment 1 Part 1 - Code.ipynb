{
 "cells": [
  {
   "cell_type": "code",
   "execution_count": 1,
   "metadata": {},
   "outputs": [],
   "source": [
    "import pandas as pd\n",
    "from rdflib import Graph, Literal, RDF, URIRef, Namespace"
   ]
  },
  {
   "cell_type": "code",
   "execution_count": 2,
   "metadata": {},
   "outputs": [],
   "source": [
    "artist_url='https://raw.githubusercontent.com/FHCampbell71/KG/main/artists.csv'\n",
    "album_url='https://raw.githubusercontent.com/FHCampbell71/KG/main/albums.csv'\n",
    "\n",
    "artist_df=pd.read_csv(artist_url)\n",
    "album_df=pd.read_csv(album_url)"
   ]
  },
  {
   "cell_type": "code",
   "execution_count": 3,
   "metadata": {},
   "outputs": [
    {
     "data": {
      "text/html": [
       "<div>\n",
       "<style scoped>\n",
       "    .dataframe tbody tr th:only-of-type {\n",
       "        vertical-align: middle;\n",
       "    }\n",
       "\n",
       "    .dataframe tbody tr th {\n",
       "        vertical-align: top;\n",
       "    }\n",
       "\n",
       "    .dataframe thead th {\n",
       "        text-align: right;\n",
       "    }\n",
       "</style>\n",
       "<table border=\"1\" class=\"dataframe\">\n",
       "  <thead>\n",
       "    <tr style=\"text-align: right;\">\n",
       "      <th></th>\n",
       "      <th>id</th>\n",
       "      <th>real_name</th>\n",
       "      <th>art_name</th>\n",
       "      <th>role</th>\n",
       "      <th>year_of_birth</th>\n",
       "      <th>country</th>\n",
       "      <th>city</th>\n",
       "      <th>email</th>\n",
       "      <th>zip_code</th>\n",
       "    </tr>\n",
       "  </thead>\n",
       "  <tbody>\n",
       "    <tr>\n",
       "      <th>0</th>\n",
       "      <td>1</td>\n",
       "      <td>Kameko Nelson</td>\n",
       "      <td>NaN</td>\n",
       "      <td>female voice</td>\n",
       "      <td>1981</td>\n",
       "      <td>Slovenia</td>\n",
       "      <td>Vedrin</td>\n",
       "      <td>lorem.tristique.aliquet@nonummyFusce.co.uk</td>\n",
       "      <td>6914</td>\n",
       "    </tr>\n",
       "  </tbody>\n",
       "</table>\n",
       "</div>"
      ],
      "text/plain": [
       "   id      real_name art_name          role  year_of_birth   country    city  \\\n",
       "0   1  Kameko Nelson      NaN  female voice           1981  Slovenia  Vedrin   \n",
       "\n",
       "                                        email zip_code  \n",
       "0  lorem.tristique.aliquet@nonummyFusce.co.uk     6914  "
      ]
     },
     "execution_count": 3,
     "metadata": {},
     "output_type": "execute_result"
    }
   ],
   "source": [
    "artist_df.head(1)"
   ]
  },
  {
   "cell_type": "code",
   "execution_count": 4,
   "metadata": {},
   "outputs": [
    {
     "data": {
      "text/html": [
       "<div>\n",
       "<style scoped>\n",
       "    .dataframe tbody tr th:only-of-type {\n",
       "        vertical-align: middle;\n",
       "    }\n",
       "\n",
       "    .dataframe tbody tr th {\n",
       "        vertical-align: top;\n",
       "    }\n",
       "\n",
       "    .dataframe thead th {\n",
       "        text-align: right;\n",
       "    }\n",
       "</style>\n",
       "<table border=\"1\" class=\"dataframe\">\n",
       "  <thead>\n",
       "    <tr style=\"text-align: right;\">\n",
       "      <th></th>\n",
       "      <th>id</th>\n",
       "      <th>artist_id</th>\n",
       "      <th>album_title</th>\n",
       "      <th>genre</th>\n",
       "      <th>year_of_pub</th>\n",
       "      <th>num_of_tracks</th>\n",
       "      <th>num_of_sales</th>\n",
       "      <th>rolling_stone_critic</th>\n",
       "      <th>mtv_critic</th>\n",
       "      <th>music_maniac_critic</th>\n",
       "    </tr>\n",
       "  </thead>\n",
       "  <tbody>\n",
       "    <tr>\n",
       "      <th>0</th>\n",
       "      <td>1</td>\n",
       "      <td>1767</td>\n",
       "      <td>Call me Cat Moneyless That Doggies</td>\n",
       "      <td>Folk</td>\n",
       "      <td>2006</td>\n",
       "      <td>11</td>\n",
       "      <td>905193</td>\n",
       "      <td>4.0</td>\n",
       "      <td>1.5</td>\n",
       "      <td>3.0</td>\n",
       "    </tr>\n",
       "  </tbody>\n",
       "</table>\n",
       "</div>"
      ],
      "text/plain": [
       "   id  artist_id                         album_title genre  year_of_pub  \\\n",
       "0   1       1767  Call me Cat Moneyless That Doggies  Folk         2006   \n",
       "\n",
       "   num_of_tracks  num_of_sales  rolling_stone_critic  mtv_critic  \\\n",
       "0             11        905193                   4.0         1.5   \n",
       "\n",
       "   music_maniac_critic  \n",
       "0                  3.0  "
      ]
     },
     "execution_count": 4,
     "metadata": {},
     "output_type": "execute_result"
    }
   ],
   "source": [
    "album_df.head(1)\n"
   ]
  },
  {
   "cell_type": "code",
   "execution_count": 5,
   "metadata": {},
   "outputs": [],
   "source": [
    "g = Graph()\n",
    "EX = Namespace('http://example.com/')\n",
    "DB = Namespace('http://dbpedia.org/resource/')\n",
    "RDF = Namespace('http://www.w3.org/1999/02/22-rdf-syntax-ns#')\n",
    "RDFS = Namespace('http://www.w3.org/2000/01/rdf-schema#')\n",
    "XSD = Namespace('http://www.w3.org/2001/XMLSchema#')\n",
    "SCH = Namespace('https://schema.org/')\n",
    "MO = Namespace('http://purl.org/ontology/mo/')\n",
    "PAV = Namespace('http://purl.org/pav/')"
   ]
  },
  {
   "cell_type": "code",
   "execution_count": 6,
   "metadata": {},
   "outputs": [],
   "source": [
    "for index, row in artist_df.iterrows():\n",
    "  g.add((URIRef(EX + 'Artist_' + str(row['id'])), RDF.type, URIRef(SCH + 'artist')))\n",
    "  g.add((URIRef(EX + 'Artist_' + str(row['id'])), URIRef(SCH + 'identifier'), Literal(row['id'], datatype=XSD.integer)))\n",
    "  g.add((URIRef(EX + 'Artist_' + str(row['id'])), URIRef(SCH + 'name'), Literal(row['real_name'])))\n",
    "  g.add((URIRef(EX + 'Artist_' + str(row['id'])), URIRef(SCH + 'alternateName'), Literal(row['art_name'])))\n",
    "  g.add((URIRef(EX + 'Artist_' + str(row['id'])), URIRef(SCH + 'roleName'), Literal(row['role'])))\n",
    "  g.add((URIRef(EX + 'Artist_' + str(row['id'])), URIRef(SCH + 'birthDate'), Literal(row['year_of_birth'], datatype=XSD.integer)))\n",
    "  g.add((URIRef(EX + 'Artist_' + str(row['id'])), URIRef(SCH + 'Country'), Literal(row['country'])))\n",
    "  g.add((URIRef(EX + 'Artist_' + str(row['id'])), URIRef(SCH + 'City'), Literal(row['city'])))\n",
    "  g.add((URIRef(EX + 'Artist_' + str(row['id'])), URIRef(SCH + 'postalCode'), Literal(row['zip_code'])))\n",
    "  g.add((URIRef(EX + 'Artist_' + str(row['id'])), URIRef(SCH + 'email'), Literal(row['email'])))\n"
   ]
  },
  {
   "cell_type": "code",
   "execution_count": 7,
   "metadata": {},
   "outputs": [],
   "source": [
    "for index, row in album_df.iterrows():\n",
    "  g.add((URIRef(EX + 'Album_' + str(row['id'])), RDF.type, URIRef(SCH + 'artist')))\n",
    "  g.add((URIRef(EX + 'Album_' + str(row['id'])), URIRef(SCH + 'identifier'), Literal(row['id'], datatype=XSD.integer)))\n",
    "  g.add((URIRef(EX + 'Album_' + str(row['id'])), URIRef(SCH + 'title'), Literal(row['album_title'])))\n",
    "  g.add((URIRef(EX + 'Album_' + str(row['id'])), URIRef(MO + 'genre'), Literal(row['genre'])))\n",
    "  g.add((URIRef(EX + 'Album_' + str(row['id'])), URIRef(SCH + 'datePublished'), Literal(row['year_of_pub'])))\n",
    "  g.add((URIRef(EX + 'Album_' + str(row['id'])), URIRef(SCH + 'numTracks'), Literal(row['num_of_tracks'], datatype=XSD.integer)))\n",
    "  g.add((URIRef(EX + 'Album_' + str(row['id'])), URIRef(DB + 'Rolling_stone'), Literal(row['rolling_stone_critic'], datatype=XSD.float)))\n",
    "  g.add((URIRef(EX + 'Album_' + str(row['id'])), URIRef(DB + 'MTV'), Literal(row['mtv_critic'], datatype=XSD.float)))\n",
    "  g.add((URIRef(EX + 'Album_' + str(row['id'])), URIRef(DB + 'Music_Maniac'), Literal(row['music_maniac_critic'], datatype=XSD.float)))\n",
    "  g.add((URIRef(EX + 'Album_' + str(row['id'])), URIRef(DB + 'Sales'), Literal(row['num_of_sales'], datatype=XSD.integer)))\n",
    "  g.add((URIRef(EX + 'Album_' + str(row['id'])), URIRef(PAV + 'createdBy'), URIRef(EX + 'Artist_' + str(row['artist_id']))))"
   ]
  },
  {
   "cell_type": "code",
   "execution_count": 8,
   "metadata": {},
   "outputs": [],
   "source": [
    "# Export the whole graph as 'graph.ttl'\n",
    "with open('graph.ttl', 'w', encoding='utf-8') as outfile:\n",
    "    outfile.write(g.serialize(format='turtle'))"
   ]
  },
  {
   "cell_type": "code",
   "execution_count": 9,
   "metadata": {},
   "outputs": [
    {
     "name": "stdout",
     "output_type": "stream",
     "text": [
      "http://example.com/Artist_29548 https://schema.org/alternateName Manager\n",
      "http://example.com/Artist_28305 https://schema.org/identifier 28305\n",
      "http://example.com/Artist_667 https://schema.org/name Lyle R. Dean\n",
      "http://example.com/Artist_37118 https://schema.org/roleName violoncellist\n",
      "http://example.com/Album_10326 http://dbpedia.org/resource/Music_Maniac 1.5\n",
      "http://example.com/Album_3692 http://dbpedia.org/resource/Sales 871867\n",
      "http://example.com/Artist_29328 https://schema.org/roleName female voice\n",
      "http://example.com/Artist_8776 https://schema.org/name Keegan Spears\n",
      "http://example.com/Artist_30176 https://schema.org/postalCode 13725-701\n",
      "http://example.com/Album_56913 http://purl.org/ontology/mo/genre Parody\n",
      "http://example.com/Artist_34018 https://schema.org/birthDate 1962\n",
      "http://example.com/Album_65777 https://schema.org/numTracks 12\n"
     ]
    }
   ],
   "source": [
    "# Print the first 10 triples\n",
    "for i, (sub, pred, obj) in enumerate(g):\n",
    "    print(sub, pred, obj)\n",
    "    if i > 10:\n",
    "        break"
   ]
  },
  {
   "attachments": {},
   "cell_type": "markdown",
   "metadata": {},
   "source": [
    "---\n",
    "# Queries"
   ]
  },
  {
   "cell_type": "code",
   "execution_count": 10,
   "metadata": {},
   "outputs": [
    {
     "name": "stdout",
     "output_type": "stream",
     "text": [
      "Competency Question 1\n",
      "10106 results found\n",
      "Example: (rdflib.term.URIRef('http://example.com/Album_8'), rdflib.term.URIRef('http://example.com/Artist_648'))\n",
      "\n",
      "Competency Question 2\n",
      "(rdflib.term.Literal('223264202', datatype=rdflib.term.URIRef('http://www.w3.org/2001/XMLSchema#integer')),)\n",
      "\n",
      "Competency Question 3, Part 1\n",
      "(rdflib.term.Literal('90', datatype=rdflib.term.URIRef('http://www.w3.org/2001/XMLSchema#integer')),)\n",
      "\n",
      "Competency Question 3, Part 2\n",
      "(rdflib.term.URIRef('http://example.com/Album_47'), rdflib.term.Literal('997630', datatype=rdflib.term.URIRef('http://www.w3.org/2001/XMLSchema#integer')))\n"
     ]
    }
   ],
   "source": [
    "# Which albums/artists have achieved a rating of more than 4.5 from MTV?\n",
    "query_cq1 = \"\"\"\n",
    "PREFIX db: <http://dbpedia.org/resource/>\n",
    "PREFIX pav: <http://purl.org/pav/>\n",
    "\n",
    "SELECT ?album ?artist WHERE {\n",
    "  ?album db:MTV ?rating .\n",
    "  ?album pav:createdBy ?artist .\n",
    "  FILTER (?rating > 4.5)\n",
    "}\n",
    "\"\"\"\n",
    "\n",
    "# What is the number of album sales for all artists from the Netherlands?\n",
    "query_cq2 = \"\"\"\n",
    "PREFIX db: <http://dbpedia.org/resource/>\n",
    "PREFIX pav: <http://purl.org/pav/>\n",
    "PREFIX sch: <https://schema.org/>\n",
    "\n",
    "SELECT (SUM(?numSales) as ?sumSales) WHERE {\n",
    "  ?album db:Sales ?numSales .\n",
    "  ?album pav:createdBy ?artist .\n",
    "  ?artist sch:Country \"Netherlands\" .\n",
    "}\n",
    "\"\"\"\n",
    "\n",
    "# How many albums with genre \"country\" were released in the year of 2012?\n",
    "query_cq3_1 = \"\"\"\n",
    "PREFIX pav: <http://purl.org/pav/>\n",
    "PREFIX sch: <https://schema.org/>\n",
    "PREFIX mo: <http://purl.org/ontology/mo/>\n",
    "\n",
    "SELECT (COUNT(?album) as ?sumAlbum) WHERE {\n",
    "  ?album mo:genre \"Country\" .\n",
    "  ?album sch:datePublished 2012 .\n",
    "}\n",
    "\"\"\"\n",
    "\n",
    "# Which one was the best-selling?\n",
    "query_cq3_2 = \"\"\"\n",
    "PREFIX db: <http://dbpedia.org/resource/>\n",
    "PREFIX pav: <http://purl.org/pav/>\n",
    "PREFIX sch: <https://schema.org/>\n",
    "PREFIX mo: <http://purl.org/ontology/mo/>\n",
    "\n",
    "SELECT ?album (MAX(?numSales) as ?maxSales) WHERE {\n",
    "  ?album db:Sales ?numSales .\n",
    "  ?album mo:genre \"Country\" .\n",
    "  ?album sch:datePublished 2012 .\n",
    "} ORDER BY DESC(?numSales)\n",
    "\"\"\"\n",
    "\n",
    "\n",
    "# Competency Question 1\n",
    "result = g.query(query_cq1)\n",
    "print('Competency Question 1')\n",
    "print(f'{len(result)} results found')\n",
    "# Print one example\n",
    "for r in result:\n",
    "  print(f'Example: {r}')\n",
    "  break\n",
    "print()\n",
    "\n",
    "# Competency Question 2\n",
    "result = g.query(query_cq2)\n",
    "print('Competency Question 2')\n",
    "print(*result)\n",
    "print()\n",
    "\n",
    "# Competency Question 3(1)\n",
    "result = g.query(query_cq3_1)\n",
    "print('Competency Question 3, Part 1')\n",
    "print(*result)\n",
    "print()\n",
    "\n",
    "# Competency Question 3(2)\n",
    "result = g.query(query_cq3_2)\n",
    "print('Competency Question 3, Part 2')\n",
    "print(*result)"
   ]
  },
  {
   "cell_type": "code",
   "execution_count": null,
   "metadata": {},
   "outputs": [],
   "source": []
  }
 ],
 "metadata": {
  "kernelspec": {
   "display_name": "Python 3",
   "language": "python",
   "name": "python3"
  },
  "language_info": {
   "codemirror_mode": {
    "name": "ipython",
    "version": 3
   },
   "file_extension": ".py",
   "mimetype": "text/x-python",
   "name": "python",
   "nbconvert_exporter": "python",
   "pygments_lexer": "ipython3",
   "version": "3.9.5"
  },
  "orig_nbformat": 4,
  "vscode": {
   "interpreter": {
    "hash": "81794d4967e6c3204c66dcd87b604927b115b27c00565d3d43f05ba2f3a2cb0d"
   }
  }
 },
 "nbformat": 4,
 "nbformat_minor": 2
}
